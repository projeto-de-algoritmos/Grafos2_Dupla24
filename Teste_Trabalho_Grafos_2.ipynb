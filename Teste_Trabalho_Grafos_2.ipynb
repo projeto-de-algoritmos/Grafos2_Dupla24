{
  "nbformat": 4,
  "nbformat_minor": 0,
  "metadata": {
    "colab": {
      "name": "Teste Trabalho Grafos 2.ipynb",
      "provenance": [],
      "collapsed_sections": [
        "mNQIr9ONaw5t",
        "utMkvNABVelx"
      ]
    },
    "kernelspec": {
      "name": "python3",
      "display_name": "Python 3"
    },
    "language_info": {
      "name": "python"
    }
  },
  "cells": [
    {
      "cell_type": "markdown",
      "source": [
        "#Introdução"
      ],
      "metadata": {
        "id": "mNQIr9ONaw5t"
      }
    },
    {
      "cell_type": "markdown",
      "source": [
        "Ao conferir a documentação da biblioteca Pyvis (utilizada no trabalho anterior, de Grafos 1), percebi que ela é um pouco limitada em termos de modelagem de grafos, não permitindo a implementação de alguns algoritmos mais complexos."
      ],
      "metadata": {
        "id": "3BLXfZMfOcQh"
      }
    },
    {
      "cell_type": "markdown",
      "source": [
        "Por exemplo, ela não possui a função de deletar arestas, tornando impossível a implementação do Algoritmo de Exclusão Reversa."
      ],
      "metadata": {
        "id": "5xXZTvyaQpKz"
      }
    },
    {
      "cell_type": "markdown",
      "source": [
        "Por outro lado, a biblioteca permite uma personalização interessante da visualização dos grafos, e permite integração com a NetworkX, uma biblioteca de grafos mais avançada."
      ],
      "metadata": {
        "id": "DaQgpfLMQ0lP"
      }
    },
    {
      "cell_type": "markdown",
      "source": [
        "#Instalando dependências necessárias"
      ],
      "metadata": {
        "id": "utMkvNABVelx"
      }
    },
    {
      "cell_type": "code",
      "source": [
        "!pip install networkx\n",
        "!pip install pyvis"
      ],
      "metadata": {
        "colab": {
          "base_uri": "https://localhost:8080/"
        },
        "id": "nwb8OiPIV0wv",
        "outputId": "5263ef88-ef51-4c0e-b4f8-2c5fc3dad9da"
      },
      "execution_count": null,
      "outputs": [
        {
          "output_type": "stream",
          "name": "stdout",
          "text": [
            "Requirement already satisfied: networkx in /usr/local/lib/python3.7/dist-packages (2.6.3)\n",
            "Collecting pyvis\n",
            "  Downloading pyvis-0.1.9-py3-none-any.whl (23 kB)\n",
            "Requirement already satisfied: ipython>=5.3.0 in /usr/local/lib/python3.7/dist-packages (from pyvis) (5.5.0)\n",
            "Collecting jsonpickle>=1.4.1\n",
            "  Downloading jsonpickle-2.1.0-py2.py3-none-any.whl (38 kB)\n",
            "Requirement already satisfied: networkx>=1.11 in /usr/local/lib/python3.7/dist-packages (from pyvis) (2.6.3)\n",
            "Requirement already satisfied: jinja2>=2.9.6 in /usr/local/lib/python3.7/dist-packages (from pyvis) (2.11.3)\n",
            "Requirement already satisfied: traitlets>=4.2 in /usr/local/lib/python3.7/dist-packages (from ipython>=5.3.0->pyvis) (5.1.1)\n",
            "Requirement already satisfied: prompt-toolkit<2.0.0,>=1.0.4 in /usr/local/lib/python3.7/dist-packages (from ipython>=5.3.0->pyvis) (1.0.18)\n",
            "Requirement already satisfied: setuptools>=18.5 in /usr/local/lib/python3.7/dist-packages (from ipython>=5.3.0->pyvis) (57.4.0)\n",
            "Requirement already satisfied: decorator in /usr/local/lib/python3.7/dist-packages (from ipython>=5.3.0->pyvis) (4.4.2)\n",
            "Requirement already satisfied: simplegeneric>0.8 in /usr/local/lib/python3.7/dist-packages (from ipython>=5.3.0->pyvis) (0.8.1)\n",
            "Requirement already satisfied: pexpect in /usr/local/lib/python3.7/dist-packages (from ipython>=5.3.0->pyvis) (4.8.0)\n",
            "Requirement already satisfied: pygments in /usr/local/lib/python3.7/dist-packages (from ipython>=5.3.0->pyvis) (2.6.1)\n",
            "Requirement already satisfied: pickleshare in /usr/local/lib/python3.7/dist-packages (from ipython>=5.3.0->pyvis) (0.7.5)\n",
            "Requirement already satisfied: MarkupSafe>=0.23 in /usr/local/lib/python3.7/dist-packages (from jinja2>=2.9.6->pyvis) (2.0.1)\n",
            "Requirement already satisfied: importlib-metadata in /usr/local/lib/python3.7/dist-packages (from jsonpickle>=1.4.1->pyvis) (4.11.0)\n",
            "Requirement already satisfied: wcwidth in /usr/local/lib/python3.7/dist-packages (from prompt-toolkit<2.0.0,>=1.0.4->ipython>=5.3.0->pyvis) (0.2.5)\n",
            "Requirement already satisfied: six>=1.9.0 in /usr/local/lib/python3.7/dist-packages (from prompt-toolkit<2.0.0,>=1.0.4->ipython>=5.3.0->pyvis) (1.15.0)\n",
            "Requirement already satisfied: typing-extensions>=3.6.4 in /usr/local/lib/python3.7/dist-packages (from importlib-metadata->jsonpickle>=1.4.1->pyvis) (3.10.0.2)\n",
            "Requirement already satisfied: zipp>=0.5 in /usr/local/lib/python3.7/dist-packages (from importlib-metadata->jsonpickle>=1.4.1->pyvis) (3.7.0)\n",
            "Requirement already satisfied: ptyprocess>=0.5 in /usr/local/lib/python3.7/dist-packages (from pexpect->ipython>=5.3.0->pyvis) (0.7.0)\n",
            "Installing collected packages: jsonpickle, pyvis\n",
            "Successfully installed jsonpickle-2.1.0 pyvis-0.1.9\n"
          ]
        }
      ]
    },
    {
      "cell_type": "markdown",
      "source": [
        "#Testando a integração entre as bibliotecas NetworkX e Pyvis:"
      ],
      "metadata": {
        "id": "IYJ4VscORoes"
      }
    },
    {
      "cell_type": "markdown",
      "source": [
        "[Código disponibilizado pela documentação do Pyvis, na seção 'Tutorial']"
      ],
      "metadata": {
        "id": "TQ_yyS4KXi6T"
      }
    },
    {
      "cell_type": "code",
      "source": [
        "from pyvis.network import Network\n",
        "import networkx as nx\n",
        "nx_graph = nx.cycle_graph(10)\n",
        "nx_graph.nodes[1]['title'] = 'Number 1'\n",
        "nx_graph.nodes[1]['group'] = 1\n",
        "nx_graph.nodes[3]['title'] = 'I belong to a different group!'\n",
        "nx_graph.nodes[3]['group'] = 10\n",
        "nx_graph.add_node(20, size=20, title='couple', group=2)\n",
        "nx_graph.add_node(21, size=15, title='couple', group=2)\n",
        "nx_graph.add_edge(20, 21, weight=5)\n",
        "nx_graph.add_node(25, size=25, label='lonely', title='lonely node', group=3)\n",
        "nt = Network('500px', '500px')\n",
        "# populates the nodes and edges data structures\n",
        "nt.from_nx(nx_graph)\n",
        "nt.show('nx.html')"
      ],
      "metadata": {
        "id": "8y-o3PCtSaC3"
      },
      "execution_count": null,
      "outputs": []
    },
    {
      "cell_type": "markdown",
      "source": [
        "#Criando um grafo de exemplo para testar a implementação do algoritmo de Prim"
      ],
      "metadata": {
        "id": "K9JGq4hve0YO"
      }
    },
    {
      "cell_type": "code",
      "source": [
        "import networkx as nx\n",
        "\n",
        "grafo = nx.Graph()\n",
        "\n",
        "grafo.add_node(0)\n",
        "grafo.add_node(1)\n",
        "grafo.add_node(2)\n",
        "grafo.add_node(3)\n",
        "grafo.add_node(4)\n",
        "grafo.add_node(5)\n",
        "grafo.add_node(6)\n",
        "grafo.add_node(7)\n",
        "\n",
        "grafo.add_edge(0, 1, weight=24)\n",
        "grafo.add_edge(0, 2, weight=4 )\n",
        "grafo.add_edge(1, 3, weight=23)\n",
        "grafo.add_edge(1, 4, weight=18)\n",
        "grafo.add_edge(1, 5, weight=9 )\n",
        "grafo.add_edge(2, 3, weight=6 )\n",
        "grafo.add_edge(2, 6, weight=16)\n",
        "grafo.add_edge(3, 4, weight=5 )\n",
        "grafo.add_edge(3, 6, weight=8 )\n",
        "grafo.add_edge(4, 5, weight=11)\n",
        "grafo.add_edge(4, 6, weight=10)\n",
        "grafo.add_edge(4, 7, weight=14)\n",
        "grafo.add_edge(5, 7, weight=7 )\n",
        "grafo.add_edge(6, 7, weight=21)\n",
        "\n",
        "# Definir atributo posição (usando um padrão qualquer)\n",
        "pos = nx.spring_layout(grafo, seed=1)\n",
        "\n",
        "# Plotar grafo\n",
        "nx.draw(grafo, pos, with_labels=True, font_weight='bold')\n",
        "\n",
        "# Obter pesos das arestas e utilizá-los como labels\n",
        "labels = nx.get_edge_attributes(grafo, 'weight')\n",
        "nx.draw_networkx_edge_labels(grafo, pos, edge_labels=labels)"
      ],
      "metadata": {
        "colab": {
          "base_uri": "https://localhost:8080/",
          "height": 562
        },
        "id": "2GIIR5iQf6ck",
        "outputId": "e9596005-d2a2-48df-d63c-85302b01f912"
      },
      "execution_count": null,
      "outputs": [
        {
          "output_type": "execute_result",
          "data": {
            "text/plain": [
              "{(0, 1): Text(0.5797666316742909, -0.6236510498339258, '24'),\n",
              " (0, 2): Text(-0.11958963510530762, -0.8360002355642309, '4'),\n",
              " (1, 3): Text(0.23665129389351675, -0.33763445438485906, '23'),\n",
              " (1, 4): Text(0.35318980633012537, 0.08347473342308698, '18'),\n",
              " (1, 5): Text(0.6258082285041797, 0.2941656857924646, '9'),\n",
              " (2, 3): Text(-0.4627049728860818, -0.5499836401151641, '6'),\n",
              " (2, 6): Text(-0.7725576455742413, -0.24238870357599784, '16'),\n",
              " (3, 4): Text(0.03127240923851403, -0.006857621293920452, '5'),\n",
              " (3, 6): Text(-0.3951187758862541, -0.12037187256270022, '8'),\n",
              " (4, 5): Text(0.42042934384917696, 0.6249425188834032, '11'),\n",
              " (4, 6): Text(-0.2785802634496455, 0.3007373152452458, '10'),\n",
              " (4, 7): Text(-0.11109981751261784, 0.6622064223344672, '14'),\n",
              " (5, 7): Text(0.16151860466143647, 0.8728973747038449, '7'),\n",
              " (6, 7): Text(-0.537491002637386, 0.5486921710656875, '21')}"
            ]
          },
          "metadata": {},
          "execution_count": 8
        },
        {
          "output_type": "display_data",
          "data": {
            "image/png": "[encoded data removed]",
            "text/plain": [
              "<Figure size 432x288 with 1 Axes>"
            ]
          },
          "metadata": {}
        }
      ]
    },
    {
      "cell_type": "markdown",
      "source": [
        "O grafo escolhido como exemplo foi baseado no slide 3 dos \"Slides de Árvore Geradora Mínima\" que encontram-se na disciplina de Projeto de Algoritmos no Aprender3."
      ],
      "metadata": {
        "id": "cu-LTC7sHtXg"
      }
    },
    {
      "cell_type": "markdown",
      "source": [
        "#Testando função própria do NetworkX para obter a Árvore Geradora Mínima de um grafo (note que optamos pelo Algoritmo de Prim)"
      ],
      "metadata": {
        "id": "lXTIwfWHiSVD"
      }
    },
    {
      "cell_type": "code",
      "source": [
        "from networkx.algorithms import tree\n",
        "\n",
        "mst = tree.minimum_spanning_edges(grafo, algorithm=\"prim\", data=False)\n",
        "edgelist = list(mst)\n",
        "sorted(sorted(e) for e in edgelist)"
      ],
      "metadata": {
        "colab": {
          "base_uri": "https://localhost:8080/"
        },
        "id": "uVA7886nOypt",
        "outputId": "122b251e-1b6f-4451-eb93-a8199773f8b9"
      },
      "execution_count": null,
      "outputs": [
        {
          "output_type": "execute_result",
          "data": {
            "text/plain": [
              "[[0, 2], [1, 5], [2, 3], [3, 4], [3, 6], [4, 5], [5, 7]]"
            ]
          },
          "metadata": {},
          "execution_count": 6
        }
      ]
    },
    {
      "cell_type": "markdown",
      "source": [
        "Note que ele retorna um array de arrays correspondentes às arestas que compõem a Árvore Geradora Mínima."
      ],
      "metadata": {
        "id": "n8ECox1JiwgK"
      }
    },
    {
      "cell_type": "code",
      "source": [
        "from pyvis.network import Network\n",
        "\n",
        "nt = Network('500px', '500px')\n",
        "nt.from_nx(grafo)\n",
        "nt.show('nx.html')"
      ],
      "metadata": {
        "id": "yWkBw2xty79F"
      },
      "execution_count": null,
      "outputs": []
    }
  ]
}